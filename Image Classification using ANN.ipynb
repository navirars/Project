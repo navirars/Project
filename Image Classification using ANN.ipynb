{
 "cells": [
  {
   "cell_type": "markdown",
   "metadata": {},
   "source": [
    "<h3>1. Import module yang dibutuhkan</h3>"
   ]
  },
  {
   "cell_type": "code",
   "execution_count": 1,
   "metadata": {},
   "outputs": [],
   "source": [
    "from sklearn.model_selection import train_test_split\n",
    "from sklearn.preprocessing import LabelEncoder\n",
    "from sklearn.metrics import classification_report\n",
    "from tensorflow.keras.models import Sequential\n",
    "from tensorflow.keras.layers import Flatten, Dense\n",
    "from tensorflow.keras.optimizers import SGD\n",
    "import numpy as np\n",
    "import cv2\n",
    "import glob\n",
    "import matplotlib.pyplot as plt"
   ]
  },
  {
   "cell_type": "markdown",
   "metadata": {},
   "source": [
    "<h3>2. Load Dataset</h3>"
   ]
  },
  {
   "cell_type": "code",
   "execution_count": 2,
   "metadata": {},
   "outputs": [],
   "source": [
    "imagePaths = 'Dataset\\\\'\n",
    "label_list = ['JAHE', 'LENGKUAS']\n",
    "data = []\n",
    "labels = []"
   ]
  },
  {
   "cell_type": "code",
   "execution_count": 3,
   "metadata": {},
   "outputs": [],
   "source": [
    "for label in label_list:\n",
    "    for imagePath in glob.glob(imagePaths+label+'\\\\*.jpg'):\n",
    "        #print(imagePath)\n",
    "        image = cv2.imread(imagePath)\n",
    "        image = cv2.resize(image, (32, 32))\n",
    "        data.append(image)\n",
    "        labels.append(label)"
   ]
  },
  {
   "cell_type": "code",
   "execution_count": 4,
   "metadata": {},
   "outputs": [
    {
     "data": {
      "text/plain": [
       "(100, 32, 32, 3)"
      ]
     },
     "execution_count": 4,
     "metadata": {},
     "output_type": "execute_result"
    }
   ],
   "source": [
    "np.array(data).shape"
   ]
  },
  {
   "cell_type": "markdown",
   "metadata": {},
   "source": [
    "<h3>3. Data Preprocessing</h3>"
   ]
  },
  {
   "cell_type": "code",
   "execution_count": 5,
   "metadata": {},
   "outputs": [],
   "source": [
    "# ubah type data dari list menjadi array\n",
    "# ubah nilai dari tiap pixel menjadi range [0..1]\n",
    "data = np.array(data, dtype='float') / 255.0\n",
    "labels = np.array(labels)"
   ]
  },
  {
   "cell_type": "code",
   "execution_count": 6,
   "metadata": {},
   "outputs": [
    {
     "name": "stdout",
     "output_type": "stream",
     "text": [
      "['JAHE' 'JAHE' 'JAHE' 'JAHE' 'JAHE' 'JAHE' 'JAHE' 'JAHE' 'JAHE' 'JAHE'\n",
      " 'JAHE' 'JAHE' 'JAHE' 'JAHE' 'JAHE' 'JAHE' 'JAHE' 'JAHE' 'JAHE' 'JAHE'\n",
      " 'JAHE' 'JAHE' 'JAHE' 'JAHE' 'JAHE' 'JAHE' 'JAHE' 'JAHE' 'JAHE' 'JAHE'\n",
      " 'JAHE' 'JAHE' 'JAHE' 'JAHE' 'JAHE' 'JAHE' 'JAHE' 'JAHE' 'JAHE' 'JAHE'\n",
      " 'JAHE' 'JAHE' 'JAHE' 'JAHE' 'JAHE' 'JAHE' 'JAHE' 'JAHE' 'JAHE' 'JAHE'\n",
      " 'LENGKUAS' 'LENGKUAS' 'LENGKUAS' 'LENGKUAS' 'LENGKUAS' 'LENGKUAS'\n",
      " 'LENGKUAS' 'LENGKUAS' 'LENGKUAS' 'LENGKUAS' 'LENGKUAS' 'LENGKUAS'\n",
      " 'LENGKUAS' 'LENGKUAS' 'LENGKUAS' 'LENGKUAS' 'LENGKUAS' 'LENGKUAS'\n",
      " 'LENGKUAS' 'LENGKUAS' 'LENGKUAS' 'LENGKUAS' 'LENGKUAS' 'LENGKUAS'\n",
      " 'LENGKUAS' 'LENGKUAS' 'LENGKUAS' 'LENGKUAS' 'LENGKUAS' 'LENGKUAS'\n",
      " 'LENGKUAS' 'LENGKUAS' 'LENGKUAS' 'LENGKUAS' 'LENGKUAS' 'LENGKUAS'\n",
      " 'LENGKUAS' 'LENGKUAS' 'LENGKUAS' 'LENGKUAS' 'LENGKUAS' 'LENGKUAS'\n",
      " 'LENGKUAS' 'LENGKUAS' 'LENGKUAS' 'LENGKUAS' 'LENGKUAS' 'LENGKUAS'\n",
      " 'LENGKUAS' 'LENGKUAS']\n"
     ]
    }
   ],
   "source": [
    "print(labels)"
   ]
  },
  {
   "cell_type": "code",
   "execution_count": 7,
   "metadata": {},
   "outputs": [
    {
     "name": "stdout",
     "output_type": "stream",
     "text": [
      "[0 0 0 0 0 0 0 0 0 0 0 0 0 0 0 0 0 0 0 0 0 0 0 0 0 0 0 0 0 0 0 0 0 0 0 0 0\n",
      " 0 0 0 0 0 0 0 0 0 0 0 0 0 1 1 1 1 1 1 1 1 1 1 1 1 1 1 1 1 1 1 1 1 1 1 1 1\n",
      " 1 1 1 1 1 1 1 1 1 1 1 1 1 1 1 1 1 1 1 1 1 1 1 1 1 1]\n"
     ]
    }
   ],
   "source": [
    "# ubah nilai dari labels menjadi binary\n",
    "lb = LabelEncoder()\n",
    "labels = lb.fit_transform(labels)\n",
    "print(labels)"
   ]
  },
  {
   "cell_type": "markdown",
   "metadata": {},
   "source": [
    "<h3>4. Split Dataset</h3>"
   ]
  },
  {
   "cell_type": "code",
   "execution_count": 8,
   "metadata": {},
   "outputs": [],
   "source": [
    "x_train, x_test, y_train, y_test = train_test_split(data, labels, test_size=0.2, random_state=42)"
   ]
  },
  {
   "cell_type": "code",
   "execution_count": 9,
   "metadata": {},
   "outputs": [
    {
     "name": "stdout",
     "output_type": "stream",
     "text": [
      "Ukuran data train = (80, 32, 32, 3)\n",
      "Ukuran data test = (20, 32, 32, 3)\n"
     ]
    }
   ],
   "source": [
    "print('Ukuran data train =', x_train.shape)\n",
    "print('Ukuran data test =', x_test.shape)"
   ]
  },
  {
   "cell_type": "markdown",
   "metadata": {},
   "source": [
    "<h3>5. Build ANN Architecture</h3>"
   ]
  },
  {
   "cell_type": "code",
   "execution_count": 10,
   "metadata": {},
   "outputs": [],
   "source": [
    "model = Sequential()\n",
    "model.add(Flatten(input_shape=(32,32,3)))\n",
    "model.add(Dense(1024, activation=\"relu\"))\n",
    "model.add(Dense(1024, activation=\"relu\"))\n",
    "model.add(Dense(1, activation=\"sigmoid\"))"
   ]
  },
  {
   "cell_type": "code",
   "execution_count": 11,
   "metadata": {},
   "outputs": [
    {
     "name": "stdout",
     "output_type": "stream",
     "text": [
      "Model: \"sequential\"\n",
      "_________________________________________________________________\n",
      " Layer (type)                Output Shape              Param #   \n",
      "=================================================================\n",
      " flatten (Flatten)           (None, 3072)              0         \n",
      "                                                                 \n",
      " dense (Dense)               (None, 1024)              3146752   \n",
      "                                                                 \n",
      " dense_1 (Dense)             (None, 1024)              1049600   \n",
      "                                                                 \n",
      " dense_2 (Dense)             (None, 1)                 1025      \n",
      "                                                                 \n",
      "=================================================================\n",
      "Total params: 4,197,377\n",
      "Trainable params: 4,197,377\n",
      "Non-trainable params: 0\n",
      "_________________________________________________________________\n"
     ]
    }
   ],
   "source": [
    "model.summary()"
   ]
  },
  {
   "cell_type": "code",
   "execution_count": 12,
   "metadata": {},
   "outputs": [],
   "source": [
    "# tentukan hyperparameter\n",
    "lr = 0.01\n",
    "max_epochs = 100\n",
    "opt_funct = SGD(learning_rate=lr)"
   ]
  },
  {
   "cell_type": "code",
   "execution_count": 13,
   "metadata": {},
   "outputs": [],
   "source": [
    "# compile arsitektur yang telah dibuat\n",
    "model.compile(loss = 'binary_crossentropy', \n",
    "              optimizer = opt_funct, \n",
    "              metrics = ['accuracy'])"
   ]
  },
  {
   "cell_type": "markdown",
   "metadata": {},
   "source": [
    "<h3>6. Train Model</h3>"
   ]
  },
  {
   "cell_type": "code",
   "execution_count": 14,
   "metadata": {},
   "outputs": [
    {
     "name": "stdout",
     "output_type": "stream",
     "text": [
      "Epoch 1/100\n",
      "3/3 [==============================] - 1s 266ms/step - loss: 1.1296 - accuracy: 0.4750 - val_loss: 1.5765 - val_accuracy: 0.4000\n",
      "Epoch 2/100\n",
      "3/3 [==============================] - 0s 166ms/step - loss: 0.8386 - accuracy: 0.6250 - val_loss: 0.8594 - val_accuracy: 0.4000\n",
      "Epoch 3/100\n",
      "3/3 [==============================] - 0s 71ms/step - loss: 0.8794 - accuracy: 0.5000 - val_loss: 0.7091 - val_accuracy: 0.4000\n",
      "Epoch 4/100\n",
      "3/3 [==============================] - 0s 70ms/step - loss: 0.6576 - accuracy: 0.5875 - val_loss: 1.1201 - val_accuracy: 0.4000\n",
      "Epoch 5/100\n",
      "3/3 [==============================] - 0s 81ms/step - loss: 0.8348 - accuracy: 0.4750 - val_loss: 0.7152 - val_accuracy: 0.6000\n",
      "Epoch 6/100\n",
      "3/3 [==============================] - 0s 44ms/step - loss: 0.6819 - accuracy: 0.6125 - val_loss: 0.6069 - val_accuracy: 0.8000\n",
      "Epoch 7/100\n",
      "3/3 [==============================] - 0s 44ms/step - loss: 0.5980 - accuracy: 0.8000 - val_loss: 0.5952 - val_accuracy: 0.8000\n",
      "Epoch 8/100\n",
      "3/3 [==============================] - 0s 45ms/step - loss: 0.5924 - accuracy: 0.7500 - val_loss: 0.6320 - val_accuracy: 0.6000\n",
      "Epoch 9/100\n",
      "3/3 [==============================] - 0s 71ms/step - loss: 0.7482 - accuracy: 0.4500 - val_loss: 1.5326 - val_accuracy: 0.4000\n",
      "Epoch 10/100\n",
      "3/3 [==============================] - 0s 80ms/step - loss: 0.8362 - accuracy: 0.6875 - val_loss: 0.5830 - val_accuracy: 0.9000\n",
      "Epoch 11/100\n",
      "3/3 [==============================] - 0s 78ms/step - loss: 0.5600 - accuracy: 0.8625 - val_loss: 0.7983 - val_accuracy: 0.4000\n",
      "Epoch 12/100\n",
      "3/3 [==============================] - 0s 73ms/step - loss: 0.6465 - accuracy: 0.5000 - val_loss: 0.5695 - val_accuracy: 0.7500\n",
      "Epoch 13/100\n",
      "3/3 [==============================] - 0s 57ms/step - loss: 0.5564 - accuracy: 0.7625 - val_loss: 0.5644 - val_accuracy: 0.8000\n",
      "Epoch 14/100\n",
      "3/3 [==============================] - 0s 43ms/step - loss: 0.6415 - accuracy: 0.5625 - val_loss: 1.1137 - val_accuracy: 0.4000\n",
      "Epoch 15/100\n",
      "3/3 [==============================] - 0s 38ms/step - loss: 0.6937 - accuracy: 0.6000 - val_loss: 0.5951 - val_accuracy: 0.6500\n",
      "Epoch 16/100\n",
      "3/3 [==============================] - 0s 41ms/step - loss: 0.5818 - accuracy: 0.8000 - val_loss: 0.6624 - val_accuracy: 0.6000\n",
      "Epoch 17/100\n",
      "3/3 [==============================] - 0s 39ms/step - loss: 0.6934 - accuracy: 0.5000 - val_loss: 0.6342 - val_accuracy: 0.6000\n",
      "Epoch 18/100\n",
      "3/3 [==============================] - 0s 39ms/step - loss: 0.5772 - accuracy: 0.6875 - val_loss: 1.1673 - val_accuracy: 0.4000\n",
      "Epoch 19/100\n",
      "3/3 [==============================] - 0s 41ms/step - loss: 0.7154 - accuracy: 0.5875 - val_loss: 0.7422 - val_accuracy: 0.4500\n",
      "Epoch 20/100\n",
      "3/3 [==============================] - 0s 38ms/step - loss: 0.5875 - accuracy: 0.6125 - val_loss: 0.5576 - val_accuracy: 0.6000\n",
      "Epoch 21/100\n",
      "3/3 [==============================] - 0s 41ms/step - loss: 0.6033 - accuracy: 0.5625 - val_loss: 0.5681 - val_accuracy: 0.7000\n",
      "Epoch 22/100\n",
      "3/3 [==============================] - 0s 42ms/step - loss: 0.4914 - accuracy: 0.8875 - val_loss: 0.6784 - val_accuracy: 0.5000\n",
      "Epoch 23/100\n",
      "3/3 [==============================] - 0s 44ms/step - loss: 0.4919 - accuracy: 0.8375 - val_loss: 0.6714 - val_accuracy: 0.5000\n",
      "Epoch 24/100\n",
      "3/3 [==============================] - 0s 41ms/step - loss: 0.5815 - accuracy: 0.6000 - val_loss: 0.6058 - val_accuracy: 0.6000\n",
      "Epoch 25/100\n",
      "3/3 [==============================] - 0s 40ms/step - loss: 0.6436 - accuracy: 0.5375 - val_loss: 0.5313 - val_accuracy: 0.8500\n",
      "Epoch 26/100\n",
      "3/3 [==============================] - 0s 41ms/step - loss: 0.4831 - accuracy: 0.8500 - val_loss: 0.5909 - val_accuracy: 0.6000\n",
      "Epoch 27/100\n",
      "3/3 [==============================] - 0s 41ms/step - loss: 0.4829 - accuracy: 0.8250 - val_loss: 0.5339 - val_accuracy: 0.6500\n",
      "Epoch 28/100\n",
      "3/3 [==============================] - 0s 42ms/step - loss: 0.5790 - accuracy: 0.6125 - val_loss: 0.5134 - val_accuracy: 0.8500\n",
      "Epoch 29/100\n",
      "3/3 [==============================] - 0s 41ms/step - loss: 0.5927 - accuracy: 0.8000 - val_loss: 0.6055 - val_accuracy: 0.6000\n",
      "Epoch 30/100\n",
      "3/3 [==============================] - 0s 40ms/step - loss: 0.5260 - accuracy: 0.6500 - val_loss: 0.6395 - val_accuracy: 0.6000\n",
      "Epoch 31/100\n",
      "3/3 [==============================] - 0s 41ms/step - loss: 0.6389 - accuracy: 0.5625 - val_loss: 0.5674 - val_accuracy: 0.6500\n",
      "Epoch 32/100\n",
      "3/3 [==============================] - 0s 41ms/step - loss: 0.4520 - accuracy: 0.9125 - val_loss: 0.5269 - val_accuracy: 0.7500\n",
      "Epoch 33/100\n",
      "3/3 [==============================] - 0s 40ms/step - loss: 0.7091 - accuracy: 0.5750 - val_loss: 0.5308 - val_accuracy: 0.7500\n",
      "Epoch 34/100\n",
      "3/3 [==============================] - 0s 41ms/step - loss: 0.4777 - accuracy: 0.8750 - val_loss: 0.8225 - val_accuracy: 0.4500\n",
      "Epoch 35/100\n",
      "3/3 [==============================] - 0s 42ms/step - loss: 0.5620 - accuracy: 0.6125 - val_loss: 0.5196 - val_accuracy: 0.8500\n",
      "Epoch 36/100\n",
      "3/3 [==============================] - 0s 40ms/step - loss: 0.4288 - accuracy: 0.9000 - val_loss: 0.4918 - val_accuracy: 0.8500\n",
      "Epoch 37/100\n",
      "3/3 [==============================] - 0s 43ms/step - loss: 0.5983 - accuracy: 0.6125 - val_loss: 0.8312 - val_accuracy: 0.4500\n",
      "Epoch 38/100\n",
      "3/3 [==============================] - 0s 41ms/step - loss: 0.5152 - accuracy: 0.7875 - val_loss: 0.5702 - val_accuracy: 0.6000\n",
      "Epoch 39/100\n",
      "3/3 [==============================] - 0s 43ms/step - loss: 0.7227 - accuracy: 0.4125 - val_loss: 0.6971 - val_accuracy: 0.5000\n",
      "Epoch 40/100\n",
      "3/3 [==============================] - 0s 45ms/step - loss: 0.7981 - accuracy: 0.4125 - val_loss: 0.5164 - val_accuracy: 0.8500\n",
      "Epoch 41/100\n",
      "3/3 [==============================] - 0s 41ms/step - loss: 0.4456 - accuracy: 0.9000 - val_loss: 0.5299 - val_accuracy: 0.8000\n",
      "Epoch 42/100\n",
      "3/3 [==============================] - 0s 41ms/step - loss: 0.4171 - accuracy: 0.9250 - val_loss: 0.6152 - val_accuracy: 0.6000\n",
      "Epoch 43/100\n",
      "3/3 [==============================] - 0s 42ms/step - loss: 0.4309 - accuracy: 0.8250 - val_loss: 0.5097 - val_accuracy: 0.6500\n",
      "Epoch 44/100\n",
      "3/3 [==============================] - 0s 42ms/step - loss: 0.6426 - accuracy: 0.5875 - val_loss: 0.7612 - val_accuracy: 0.5000\n",
      "Epoch 45/100\n",
      "3/3 [==============================] - 0s 41ms/step - loss: 0.5251 - accuracy: 0.6875 - val_loss: 0.4852 - val_accuracy: 0.8500\n",
      "Epoch 46/100\n",
      "3/3 [==============================] - 0s 41ms/step - loss: 0.4034 - accuracy: 0.9375 - val_loss: 0.6394 - val_accuracy: 0.6000\n",
      "Epoch 47/100\n",
      "3/3 [==============================] - 0s 42ms/step - loss: 0.4086 - accuracy: 0.8375 - val_loss: 0.5663 - val_accuracy: 0.6000\n",
      "Epoch 48/100\n",
      "3/3 [==============================] - 0s 43ms/step - loss: 0.4023 - accuracy: 0.8375 - val_loss: 0.5055 - val_accuracy: 0.6500\n",
      "Epoch 49/100\n",
      "3/3 [==============================] - 0s 46ms/step - loss: 0.5254 - accuracy: 0.6625 - val_loss: 0.6512 - val_accuracy: 0.5500\n",
      "Epoch 50/100\n",
      "3/3 [==============================] - 0s 44ms/step - loss: 0.4071 - accuracy: 0.8625 - val_loss: 0.4932 - val_accuracy: 0.7000\n",
      "Epoch 51/100\n",
      "3/3 [==============================] - 0s 43ms/step - loss: 0.3876 - accuracy: 0.8375 - val_loss: 0.5759 - val_accuracy: 0.6000\n",
      "Epoch 52/100\n",
      "3/3 [==============================] - 0s 51ms/step - loss: 0.8620 - accuracy: 0.4000 - val_loss: 0.6371 - val_accuracy: 0.5500\n",
      "Epoch 53/100\n",
      "3/3 [==============================] - 0s 43ms/step - loss: 0.3974 - accuracy: 0.8750 - val_loss: 0.4624 - val_accuracy: 0.9000\n",
      "Epoch 54/100\n",
      "3/3 [==============================] - 0s 39ms/step - loss: 0.3644 - accuracy: 0.9000 - val_loss: 0.4518 - val_accuracy: 0.8500\n",
      "Epoch 55/100\n",
      "3/3 [==============================] - 0s 35ms/step - loss: 0.4280 - accuracy: 0.8125 - val_loss: 0.7632 - val_accuracy: 0.5000\n",
      "Epoch 56/100\n",
      "3/3 [==============================] - 0s 37ms/step - loss: 0.4069 - accuracy: 0.8625 - val_loss: 0.4501 - val_accuracy: 0.8500\n",
      "Epoch 57/100\n",
      "3/3 [==============================] - 0s 39ms/step - loss: 0.4415 - accuracy: 0.7625 - val_loss: 0.8488 - val_accuracy: 0.5000\n",
      "Epoch 58/100\n",
      "3/3 [==============================] - 0s 40ms/step - loss: 0.4239 - accuracy: 0.8000 - val_loss: 0.4427 - val_accuracy: 0.8500\n",
      "Epoch 59/100\n"
     ]
    },
    {
     "name": "stdout",
     "output_type": "stream",
     "text": [
      "3/3 [==============================] - 0s 38ms/step - loss: 0.3624 - accuracy: 0.9500 - val_loss: 0.6844 - val_accuracy: 0.5000\n",
      "Epoch 60/100\n",
      "3/3 [==============================] - 0s 35ms/step - loss: 0.4266 - accuracy: 0.7375 - val_loss: 0.4387 - val_accuracy: 0.8500\n",
      "Epoch 61/100\n",
      "3/3 [==============================] - 0s 35ms/step - loss: 0.3484 - accuracy: 0.9250 - val_loss: 0.7800 - val_accuracy: 0.5000\n",
      "Epoch 62/100\n",
      "3/3 [==============================] - 0s 35ms/step - loss: 0.5332 - accuracy: 0.6250 - val_loss: 0.7236 - val_accuracy: 0.6000\n",
      "Epoch 63/100\n",
      "3/3 [==============================] - 0s 35ms/step - loss: 0.5042 - accuracy: 0.7125 - val_loss: 0.5542 - val_accuracy: 0.6000\n",
      "Epoch 64/100\n",
      "3/3 [==============================] - 0s 35ms/step - loss: 0.4160 - accuracy: 0.8875 - val_loss: 0.4802 - val_accuracy: 0.7000\n",
      "Epoch 65/100\n",
      "3/3 [==============================] - 0s 35ms/step - loss: 0.3801 - accuracy: 0.8375 - val_loss: 0.9154 - val_accuracy: 0.5000\n",
      "Epoch 66/100\n",
      "3/3 [==============================] - 0s 36ms/step - loss: 0.4312 - accuracy: 0.8125 - val_loss: 0.4222 - val_accuracy: 0.8500\n",
      "Epoch 67/100\n",
      "3/3 [==============================] - 0s 61ms/step - loss: 0.3206 - accuracy: 0.8875 - val_loss: 0.4285 - val_accuracy: 0.9000\n",
      "Epoch 68/100\n",
      "3/3 [==============================] - 0s 72ms/step - loss: 0.3090 - accuracy: 0.9375 - val_loss: 0.4885 - val_accuracy: 0.7000\n",
      "Epoch 69/100\n",
      "3/3 [==============================] - 0s 66ms/step - loss: 0.6285 - accuracy: 0.6125 - val_loss: 0.7510 - val_accuracy: 0.5000\n",
      "Epoch 70/100\n",
      "3/3 [==============================] - 0s 41ms/step - loss: 0.3379 - accuracy: 0.8625 - val_loss: 0.5041 - val_accuracy: 0.7000\n",
      "Epoch 71/100\n",
      "3/3 [==============================] - 0s 41ms/step - loss: 0.3526 - accuracy: 0.8875 - val_loss: 0.4979 - val_accuracy: 0.8000\n",
      "Epoch 72/100\n",
      "3/3 [==============================] - 0s 32ms/step - loss: 0.3612 - accuracy: 0.8750 - val_loss: 0.5083 - val_accuracy: 0.8000\n",
      "Epoch 73/100\n",
      "3/3 [==============================] - 0s 33ms/step - loss: 0.2956 - accuracy: 0.9250 - val_loss: 0.4054 - val_accuracy: 0.8500\n",
      "Epoch 74/100\n",
      "3/3 [==============================] - 0s 50ms/step - loss: 0.3036 - accuracy: 0.9250 - val_loss: 0.5072 - val_accuracy: 0.7000\n",
      "Epoch 75/100\n",
      "3/3 [==============================] - 0s 40ms/step - loss: 0.2936 - accuracy: 0.9250 - val_loss: 0.4877 - val_accuracy: 0.8000\n",
      "Epoch 76/100\n",
      "3/3 [==============================] - 0s 43ms/step - loss: 0.2696 - accuracy: 0.9125 - val_loss: 0.4541 - val_accuracy: 0.8000\n",
      "Epoch 77/100\n",
      "3/3 [==============================] - 0s 43ms/step - loss: 0.6799 - accuracy: 0.6250 - val_loss: 1.9654 - val_accuracy: 0.4000\n",
      "Epoch 78/100\n",
      "3/3 [==============================] - 0s 41ms/step - loss: 0.7283 - accuracy: 0.7875 - val_loss: 0.4449 - val_accuracy: 0.8500\n",
      "Epoch 79/100\n",
      "3/3 [==============================] - 0s 44ms/step - loss: 0.5459 - accuracy: 0.7250 - val_loss: 0.4582 - val_accuracy: 0.8500\n",
      "Epoch 80/100\n",
      "3/3 [==============================] - 0s 52ms/step - loss: 0.2977 - accuracy: 0.9500 - val_loss: 0.4170 - val_accuracy: 0.8000\n",
      "Epoch 81/100\n",
      "3/3 [==============================] - 0s 44ms/step - loss: 0.2776 - accuracy: 0.9500 - val_loss: 0.6661 - val_accuracy: 0.6000\n",
      "Epoch 82/100\n",
      "3/3 [==============================] - 0s 48ms/step - loss: 0.2859 - accuracy: 0.9125 - val_loss: 0.5516 - val_accuracy: 0.6000\n",
      "Epoch 83/100\n",
      "3/3 [==============================] - 0s 49ms/step - loss: 0.2566 - accuracy: 0.9250 - val_loss: 0.4186 - val_accuracy: 0.9000\n",
      "Epoch 84/100\n",
      "3/3 [==============================] - 0s 43ms/step - loss: 0.3997 - accuracy: 0.8125 - val_loss: 0.8773 - val_accuracy: 0.5000\n",
      "Epoch 85/100\n",
      "3/3 [==============================] - 0s 64ms/step - loss: 0.5006 - accuracy: 0.7000 - val_loss: 0.4590 - val_accuracy: 0.8000\n",
      "Epoch 86/100\n",
      "3/3 [==============================] - 0s 91ms/step - loss: 0.4070 - accuracy: 0.8375 - val_loss: 0.8194 - val_accuracy: 0.5000\n",
      "Epoch 87/100\n",
      "3/3 [==============================] - 0s 48ms/step - loss: 0.3560 - accuracy: 0.8500 - val_loss: 0.3827 - val_accuracy: 0.8500\n",
      "Epoch 88/100\n",
      "3/3 [==============================] - 0s 52ms/step - loss: 0.2452 - accuracy: 0.9625 - val_loss: 0.7543 - val_accuracy: 0.5000\n",
      "Epoch 89/100\n",
      "3/3 [==============================] - 0s 67ms/step - loss: 0.4840 - accuracy: 0.7000 - val_loss: 0.5881 - val_accuracy: 0.6000\n",
      "Epoch 90/100\n",
      "3/3 [==============================] - 0s 60ms/step - loss: 0.6629 - accuracy: 0.5750 - val_loss: 0.4359 - val_accuracy: 0.8500\n",
      "Epoch 91/100\n",
      "3/3 [==============================] - 0s 51ms/step - loss: 0.2584 - accuracy: 0.9500 - val_loss: 0.3790 - val_accuracy: 0.8500\n",
      "Epoch 92/100\n",
      "3/3 [==============================] - 0s 48ms/step - loss: 0.2623 - accuracy: 0.9250 - val_loss: 0.3917 - val_accuracy: 0.9000\n",
      "Epoch 93/100\n",
      "3/3 [==============================] - 0s 91ms/step - loss: 0.2419 - accuracy: 0.9500 - val_loss: 0.4708 - val_accuracy: 0.7000\n",
      "Epoch 94/100\n",
      "3/3 [==============================] - 0s 54ms/step - loss: 0.4872 - accuracy: 0.7500 - val_loss: 0.8182 - val_accuracy: 0.5000\n",
      "Epoch 95/100\n",
      "3/3 [==============================] - 0s 74ms/step - loss: 0.3065 - accuracy: 0.9250 - val_loss: 0.4526 - val_accuracy: 0.8000\n",
      "Epoch 96/100\n",
      "3/3 [==============================] - 0s 84ms/step - loss: 0.5019 - accuracy: 0.7375 - val_loss: 0.8326 - val_accuracy: 0.5000\n",
      "Epoch 97/100\n",
      "3/3 [==============================] - 0s 55ms/step - loss: 0.4540 - accuracy: 0.7625 - val_loss: 0.3788 - val_accuracy: 0.8500\n",
      "Epoch 98/100\n",
      "3/3 [==============================] - 0s 102ms/step - loss: 0.2463 - accuracy: 0.9375 - val_loss: 0.3853 - val_accuracy: 0.9000\n",
      "Epoch 99/100\n",
      "3/3 [==============================] - 0s 49ms/step - loss: 0.3616 - accuracy: 0.8625 - val_loss: 0.7446 - val_accuracy: 0.5500\n",
      "Epoch 100/100\n",
      "3/3 [==============================] - 0s 45ms/step - loss: 0.2824 - accuracy: 0.8750 - val_loss: 0.5579 - val_accuracy: 0.6000\n"
     ]
    }
   ],
   "source": [
    "H = model.fit(x_train, y_train, validation_data=(x_test, y_test), \n",
    "          epochs=max_epochs, batch_size=32)"
   ]
  },
  {
   "cell_type": "code",
   "execution_count": 15,
   "metadata": {},
   "outputs": [
    {
     "data": {
      "image/png": "[encoded data removed]",
      "text/plain": [
       "<Figure size 432x288 with 1 Axes>"
      ]
     },
     "metadata": {},
     "output_type": "display_data"
    }
   ],
   "source": [
    "N = np.arange(0, max_epochs)\n",
    "plt.style.use(\"ggplot\")\n",
    "plt.figure()\n",
    "plt.plot(N, H.history[\"loss\"], label=\"train_loss\")\n",
    "plt.plot(N, H.history[\"val_loss\"], label=\"val_loss\")\n",
    "#plt.plot(N, H.history[\"accuracy\"], label=\"train_acc\")\n",
    "#plt.plot(N, H.history[\"val_accuracy\"], label=\"val_acc\")\n",
    "plt.xlabel(\"Epoch #\")\n",
    "plt.legend()\n",
    "plt.show()"
   ]
  },
  {
   "cell_type": "markdown",
   "metadata": {},
   "source": [
    "<h3>7. Evaluate the Model</h3>"
   ]
  },
  {
   "cell_type": "code",
   "execution_count": 19,
   "metadata": {},
   "outputs": [
    {
     "name": "stdout",
     "output_type": "stream",
     "text": [
      "              precision    recall  f1-score   support\n",
      "\n",
      "        JAHE       1.00      0.33      0.50        12\n",
      "    LENGKUAS       0.50      1.00      0.67         8\n",
      "\n",
      "    accuracy                           0.60        20\n",
      "   macro avg       0.75      0.67      0.58        20\n",
      "weighted avg       0.80      0.60      0.57        20\n",
      "\n"
     ]
    },
    {
     "name": "stderr",
     "output_type": "stream",
     "text": [
      "C:\\Users\\ASUS\\AppData\\Local\\Temp/ipykernel_17920/954476436.py:3: DeprecationWarning: `np.int` is a deprecated alias for the builtin `int`. To silence this warning, use `int` by itself. Doing this will not modify any behavior and is safe. When replacing `np.int`, you may wish to use e.g. `np.int64` or `np.int32` to specify the precision. If you wish to review your current use, check the release note link for additional information.\n",
      "Deprecated in NumPy 1.20; for more details and guidance: https://numpy.org/devdocs/release/1.20.0-notes.html#deprecations\n",
      "  target = (predictions > 0.5).astype(np.int)\n"
     ]
    }
   ],
   "source": [
    "# menghitung nilai akurasi model terhadap data test\n",
    "predictions = model.predict(x_test, batch_size=32)\n",
    "target = (predictions > 0.5).astype(np.int)\n",
    "print(classification_report(y_test, target, target_names=label_list))"
   ]
  },
  {
   "cell_type": "code",
   "execution_count": 20,
   "metadata": {},
   "outputs": [
    {
     "name": "stdout",
     "output_type": "stream",
     "text": [
      "[[0.88302517]]\n"
     ]
    }
   ],
   "source": [
    "# uji model menggunakan image lain\n",
    "queryPath = imagePaths+'query_lengkuas.jpg'\n",
    "query = cv2.imread(queryPath)\n",
    "output = query.copy()\n",
    "query = cv2.resize(query, (32, 32))\n",
    "q = []\n",
    "q.append(query)\n",
    "q = np.array(q, dtype='float') / 255.0\n",
    "\n",
    "q_pred = model.predict(q)\n",
    "print(q_pred)"
   ]
  },
  {
   "cell_type": "code",
   "execution_count": 21,
   "metadata": {},
   "outputs": [
    {
     "ename": "error",
     "evalue": "OpenCV(4.5.4) D:\\a\\opencv-python\\opencv-python\\opencv\\modules\\highgui\\src\\window_w32.cpp:1261: error: (-27:Null pointer) NULL window: 'Output' in function 'cvDestroyWindow'\n",
     "output_type": "error",
     "traceback": [
      "\u001b[1;31m---------------------------------------------------------------------------\u001b[0m",
      "\u001b[1;31merror\u001b[0m                                     Traceback (most recent call last)",
      "\u001b[1;32m~\\AppData\\Local\\Temp/ipykernel_17920/655485650.py\u001b[0m in \u001b[0;36m<module>\u001b[1;34m\u001b[0m\n\u001b[0;32m      9\u001b[0m \u001b[0mcv2\u001b[0m\u001b[1;33m.\u001b[0m\u001b[0mimshow\u001b[0m\u001b[1;33m(\u001b[0m\u001b[1;34m'Output'\u001b[0m\u001b[1;33m,\u001b[0m \u001b[0moutput\u001b[0m\u001b[1;33m)\u001b[0m\u001b[1;33m\u001b[0m\u001b[1;33m\u001b[0m\u001b[0m\n\u001b[0;32m     10\u001b[0m \u001b[0mcv2\u001b[0m\u001b[1;33m.\u001b[0m\u001b[0mwaitKey\u001b[0m\u001b[1;33m(\u001b[0m\u001b[1;33m)\u001b[0m \u001b[1;31m# image tidak akan diclose,sebelum user menekan sembarang tombol\u001b[0m\u001b[1;33m\u001b[0m\u001b[1;33m\u001b[0m\u001b[0m\n\u001b[1;32m---> 11\u001b[1;33m \u001b[0mcv2\u001b[0m\u001b[1;33m.\u001b[0m\u001b[0mdestroyWindow\u001b[0m\u001b[1;33m(\u001b[0m\u001b[1;34m'Output'\u001b[0m\u001b[1;33m)\u001b[0m \u001b[1;31m# image akan diclose\u001b[0m\u001b[1;33m\u001b[0m\u001b[1;33m\u001b[0m\u001b[0m\n\u001b[0m",
      "\u001b[1;31merror\u001b[0m: OpenCV(4.5.4) D:\\a\\opencv-python\\opencv-python\\opencv\\modules\\highgui\\src\\window_w32.cpp:1261: error: (-27:Null pointer) NULL window: 'Output' in function 'cvDestroyWindow'\n"
     ]
    }
   ],
   "source": [
    "if q_pred<=0.5 :\n",
    "    target = \"Jahe\"\n",
    "else :\n",
    "    target = \"Lengkuas\"\n",
    "text = \"{}\".format(target)\n",
    "cv2.putText(output, text, (10, 30), cv2.FONT_HERSHEY_SIMPLEX, 0.7, (0, 0, 255), 2)\n",
    " \n",
    "# menampilkan output image\n",
    "cv2.imshow('Output', output)\n",
    "cv2.waitKey() # image tidak akan diclose,sebelum user menekan sembarang tombol\n",
    "cv2.destroyWindow('Output') # image akan diclose"
   ]
  },
  {
   "cell_type": "code",
   "execution_count": 22,
   "metadata": {},
   "outputs": [],
   "source": [
    "model.save('jahe_lengkuas_class_model_ann.h5')"
   ]
  },
  {
   "cell_type": "code",
   "execution_count": null,
   "metadata": {},
   "outputs": [],
   "source": []
  }
 ],
 "metadata": {
  "kernelspec": {
   "display_name": "Python 3 (ipykernel)",
   "language": "python",
   "name": "python3"
  },
  "language_info": {
   "codemirror_mode": {
    "name": "ipython",
    "version": 3
   },
   "file_extension": ".py",
   "mimetype": "text/x-python",
   "name": "python",
   "nbconvert_exporter": "python",
   "pygments_lexer": "ipython3",
   "version": "3.8.2"
  }
 },
 "nbformat": 4,
 "nbformat_minor": 4
}

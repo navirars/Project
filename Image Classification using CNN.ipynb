{
 "cells": [
  {
   "cell_type": "markdown",
   "metadata": {},
   "source": [
    "<h3>1. Import module yang dibutuhkan</h3>"
   ]
  },
  {
   "cell_type": "code",
   "execution_count": 62,
   "metadata": {},
   "outputs": [],
   "source": [
    "from sklearn.model_selection import train_test_split\n",
    "from sklearn.preprocessing import LabelEncoder\n",
    "from sklearn.metrics import classification_report\n",
    "from tensorflow.keras.models import Sequential\n",
    "from tensorflow.keras.layers import InputLayer, Flatten, Dense, Conv2D, MaxPool2D, Dropout\n",
    "from tensorflow.keras.optimizers import Adam\n",
    "import numpy as np\n",
    "import cv2\n",
    "import glob\n",
    "import matplotlib.pyplot as plt"
   ]
  },
  {
   "cell_type": "markdown",
   "metadata": {},
   "source": [
    "<h3>2. Load Dataset</h3>"
   ]
  },
  {
   "cell_type": "code",
   "execution_count": 63,
   "metadata": {},
   "outputs": [],
   "source": [
    "imagePaths = 'Dataset\\\\'\n",
    "label_list = ['JAHE', 'LENGKUAS']\n",
    "data = []\n",
    "labels = []"
   ]
  },
  {
   "cell_type": "code",
   "execution_count": 64,
   "metadata": {},
   "outputs": [],
   "source": [
    "for label in label_list:\n",
    "    for imagePath in glob.glob(imagePaths+label+'\\\\*.jpg'):\n",
    "        #print(imagePath)\n",
    "        image = cv2.imread(imagePath)\n",
    "        image = cv2.resize(image, (32, 32))\n",
    "        data.append(image)\n",
    "        labels.append(label)"
   ]
  },
  {
   "cell_type": "code",
   "execution_count": 65,
   "metadata": {},
   "outputs": [
    {
     "data": {
      "text/plain": [
       "(100, 32, 32, 3)"
      ]
     },
     "execution_count": 65,
     "metadata": {},
     "output_type": "execute_result"
    }
   ],
   "source": [
    "np.array(data).shape"
   ]
  },
  {
   "cell_type": "markdown",
   "metadata": {},
   "source": [
    "<h3>3. Data Preprocessing</h3>"
   ]
  },
  {
   "cell_type": "code",
   "execution_count": 66,
   "metadata": {},
   "outputs": [],
   "source": [
    "# ubah type data dari list menjadi array\n",
    "# ubah nilai dari tiap pixel menjadi range [0..1]\n",
    "data = np.array(data, dtype='float') / 255.0\n",
    "labels = np.array(labels)"
   ]
  },
  {
   "cell_type": "code",
   "execution_count": 67,
   "metadata": {},
   "outputs": [
    {
     "name": "stdout",
     "output_type": "stream",
     "text": [
      "['JAHE' 'JAHE' 'JAHE' 'JAHE' 'JAHE' 'JAHE' 'JAHE' 'JAHE' 'JAHE' 'JAHE'\n",
      " 'JAHE' 'JAHE' 'JAHE' 'JAHE' 'JAHE' 'JAHE' 'JAHE' 'JAHE' 'JAHE' 'JAHE'\n",
      " 'JAHE' 'JAHE' 'JAHE' 'JAHE' 'JAHE' 'JAHE' 'JAHE' 'JAHE' 'JAHE' 'JAHE'\n",
      " 'JAHE' 'JAHE' 'JAHE' 'JAHE' 'JAHE' 'JAHE' 'JAHE' 'JAHE' 'JAHE' 'JAHE'\n",
      " 'JAHE' 'JAHE' 'JAHE' 'JAHE' 'JAHE' 'JAHE' 'JAHE' 'JAHE' 'JAHE' 'JAHE'\n",
      " 'LENGKUAS' 'LENGKUAS' 'LENGKUAS' 'LENGKUAS' 'LENGKUAS' 'LENGKUAS'\n",
      " 'LENGKUAS' 'LENGKUAS' 'LENGKUAS' 'LENGKUAS' 'LENGKUAS' 'LENGKUAS'\n",
      " 'LENGKUAS' 'LENGKUAS' 'LENGKUAS' 'LENGKUAS' 'LENGKUAS' 'LENGKUAS'\n",
      " 'LENGKUAS' 'LENGKUAS' 'LENGKUAS' 'LENGKUAS' 'LENGKUAS' 'LENGKUAS'\n",
      " 'LENGKUAS' 'LENGKUAS' 'LENGKUAS' 'LENGKUAS' 'LENGKUAS' 'LENGKUAS'\n",
      " 'LENGKUAS' 'LENGKUAS' 'LENGKUAS' 'LENGKUAS' 'LENGKUAS' 'LENGKUAS'\n",
      " 'LENGKUAS' 'LENGKUAS' 'LENGKUAS' 'LENGKUAS' 'LENGKUAS' 'LENGKUAS'\n",
      " 'LENGKUAS' 'LENGKUAS' 'LENGKUAS' 'LENGKUAS' 'LENGKUAS' 'LENGKUAS'\n",
      " 'LENGKUAS' 'LENGKUAS']\n"
     ]
    }
   ],
   "source": [
    "print(labels)"
   ]
  },
  {
   "cell_type": "code",
   "execution_count": 68,
   "metadata": {},
   "outputs": [
    {
     "name": "stdout",
     "output_type": "stream",
     "text": [
      "[0 0 0 0 0 0 0 0 0 0 0 0 0 0 0 0 0 0 0 0 0 0 0 0 0 0 0 0 0 0 0 0 0 0 0 0 0\n",
      " 0 0 0 0 0 0 0 0 0 0 0 0 0 1 1 1 1 1 1 1 1 1 1 1 1 1 1 1 1 1 1 1 1 1 1 1 1\n",
      " 1 1 1 1 1 1 1 1 1 1 1 1 1 1 1 1 1 1 1 1 1 1 1 1 1 1]\n"
     ]
    }
   ],
   "source": [
    "# ubah nilai dari labels menjadi binary\n",
    "lb = LabelEncoder()\n",
    "labels = lb.fit_transform(labels)\n",
    "print(labels)"
   ]
  },
  {
   "cell_type": "markdown",
   "metadata": {},
   "source": [
    "<h3>4. Split Dataset</h3>"
   ]
  },
  {
   "cell_type": "code",
   "execution_count": 69,
   "metadata": {},
   "outputs": [],
   "source": [
    "x_train, x_test, y_train, y_test = train_test_split(data, labels, test_size=0.2, random_state=42)"
   ]
  },
  {
   "cell_type": "code",
   "execution_count": 70,
   "metadata": {},
   "outputs": [
    {
     "name": "stdout",
     "output_type": "stream",
     "text": [
      "Ukuran data train = (80, 32, 32, 3)\n",
      "Ukuran data test = (20, 32, 32, 3)\n"
     ]
    }
   ],
   "source": [
    "print('Ukuran data train =', x_train.shape)\n",
    "print('Ukuran data test =', x_test.shape)"
   ]
  },
  {
   "cell_type": "markdown",
   "metadata": {},
   "source": [
    "<h3>5. Build CNN Architecture</h3>"
   ]
  },
  {
   "cell_type": "code",
   "execution_count": 71,
   "metadata": {},
   "outputs": [],
   "source": [
    "model = Sequential()\n",
    "# Extracted Feature Layer\n",
    "model.add(InputLayer(input_shape=[32,32,3]))\n",
    "model.add(Conv2D(filters=32, kernel_size=2, strides=1, padding='same', activation='relu'))\n",
    "model.add(MaxPool2D(pool_size=2, padding='same'))\n",
    "model.add(Conv2D(filters=50, kernel_size=2, strides=1, padding='same', activation='relu'))\n",
    "model.add(MaxPool2D(pool_size=2, padding='same'))\n",
    "model.add(Dropout(0.25))\n",
    "model.add(Flatten())\n",
    "# Fully Connected Layer\n",
    "model.add(Dense(512, activation='relu'))\n",
    "model.add(Dropout(0.5))\n",
    "model.add(Dense(1, activation='sigmoid'))"
   ]
  },
  {
   "cell_type": "code",
   "execution_count": 72,
   "metadata": {},
   "outputs": [
    {
     "name": "stdout",
     "output_type": "stream",
     "text": [
      "Model: \"sequential_3\"\n",
      "_________________________________________________________________\n",
      " Layer (type)                Output Shape              Param #   \n",
      "=================================================================\n",
      " conv2d_6 (Conv2D)           (None, 32, 32, 32)        416       \n",
      "                                                                 \n",
      " max_pooling2d_6 (MaxPooling  (None, 16, 16, 32)       0         \n",
      " 2D)                                                             \n",
      "                                                                 \n",
      " conv2d_7 (Conv2D)           (None, 16, 16, 50)        6450      \n",
      "                                                                 \n",
      " max_pooling2d_7 (MaxPooling  (None, 8, 8, 50)         0         \n",
      " 2D)                                                             \n",
      "                                                                 \n",
      " dropout_6 (Dropout)         (None, 8, 8, 50)          0         \n",
      "                                                                 \n",
      " flatten_3 (Flatten)         (None, 3200)              0         \n",
      "                                                                 \n",
      " dense_6 (Dense)             (None, 512)               1638912   \n",
      "                                                                 \n",
      " dropout_7 (Dropout)         (None, 512)               0         \n",
      "                                                                 \n",
      " dense_7 (Dense)             (None, 1)                 513       \n",
      "                                                                 \n",
      "=================================================================\n",
      "Total params: 1,646,291\n",
      "Trainable params: 1,646,291\n",
      "Non-trainable params: 0\n",
      "_________________________________________________________________\n"
     ]
    }
   ],
   "source": [
    "model.summary()"
   ]
  },
  {
   "cell_type": "code",
   "execution_count": 73,
   "metadata": {},
   "outputs": [],
   "source": [
    "# tentukan hyperparameter\n",
    "lr = 0.001\n",
    "max_epochs = 100\n",
    "opt_funct = Adam(learning_rate=lr)"
   ]
  },
  {
   "cell_type": "code",
   "execution_count": 74,
   "metadata": {},
   "outputs": [],
   "source": [
    "# compile arsitektur yang telah dibuat\n",
    "model.compile(loss = 'binary_crossentropy', \n",
    "              optimizer = opt_funct, \n",
    "              metrics = ['accuracy'])"
   ]
  },
  {
   "cell_type": "markdown",
   "metadata": {},
   "source": [
    "<h3>6. Train Model</h3>"
   ]
  },
  {
   "cell_type": "code",
   "execution_count": 75,
   "metadata": {},
   "outputs": [
    {
     "name": "stdout",
     "output_type": "stream",
     "text": [
      "Epoch 1/100\n",
      "3/3 [==============================] - 50s 318ms/step - loss: 0.7093 - accuracy: 0.4750 - val_loss: 0.8420 - val_accuracy: 0.4000\n",
      "Epoch 2/100\n",
      "3/3 [==============================] - 0s 58ms/step - loss: 0.7085 - accuracy: 0.5375 - val_loss: 0.6571 - val_accuracy: 0.6000\n",
      "Epoch 3/100\n",
      "3/3 [==============================] - 0s 55ms/step - loss: 0.7040 - accuracy: 0.5125 - val_loss: 0.6569 - val_accuracy: 0.8000\n",
      "Epoch 4/100\n",
      "3/3 [==============================] - 0s 52ms/step - loss: 0.6821 - accuracy: 0.5375 - val_loss: 0.6930 - val_accuracy: 0.4000\n",
      "Epoch 5/100\n",
      "3/3 [==============================] - 0s 135ms/step - loss: 0.6610 - accuracy: 0.5500 - val_loss: 0.6194 - val_accuracy: 0.8000\n",
      "Epoch 6/100\n",
      "3/3 [==============================] - ETA: 0s - loss: 0.6469 - accuracy: 0.61 - 0s 62ms/step - loss: 0.6469 - accuracy: 0.6125 - val_loss: 0.5694 - val_accuracy: 0.8000\n",
      "Epoch 7/100\n",
      "3/3 [==============================] - 0s 79ms/step - loss: 0.6423 - accuracy: 0.6250 - val_loss: 0.5925 - val_accuracy: 0.7500\n",
      "Epoch 8/100\n",
      "3/3 [==============================] - 0s 80ms/step - loss: 0.5891 - accuracy: 0.7500 - val_loss: 0.5497 - val_accuracy: 0.9000\n",
      "Epoch 9/100\n",
      "3/3 [==============================] - 0s 68ms/step - loss: 0.5483 - accuracy: 0.8625 - val_loss: 0.5168 - val_accuracy: 0.9000\n",
      "Epoch 10/100\n",
      "3/3 [==============================] - 0s 47ms/step - loss: 0.5119 - accuracy: 0.8250 - val_loss: 0.4597 - val_accuracy: 0.9500\n",
      "Epoch 11/100\n",
      "3/3 [==============================] - 0s 98ms/step - loss: 0.5128 - accuracy: 0.8375 - val_loss: 0.4198 - val_accuracy: 0.9500\n",
      "Epoch 12/100\n",
      "3/3 [==============================] - 0s 47ms/step - loss: 0.4386 - accuracy: 0.8625 - val_loss: 0.4409 - val_accuracy: 0.9000\n",
      "Epoch 13/100\n",
      "3/3 [==============================] - 0s 44ms/step - loss: 0.4540 - accuracy: 0.8125 - val_loss: 0.3686 - val_accuracy: 0.9000\n",
      "Epoch 14/100\n",
      "3/3 [==============================] - 0s 53ms/step - loss: 0.4297 - accuracy: 0.8250 - val_loss: 0.3263 - val_accuracy: 0.9000\n",
      "Epoch 15/100\n",
      "3/3 [==============================] - 0s 58ms/step - loss: 0.4377 - accuracy: 0.7500 - val_loss: 0.3287 - val_accuracy: 0.9000\n",
      "Epoch 16/100\n",
      "3/3 [==============================] - 0s 47ms/step - loss: 0.3523 - accuracy: 0.8875 - val_loss: 0.2758 - val_accuracy: 0.9500\n",
      "Epoch 17/100\n",
      "3/3 [==============================] - 0s 46ms/step - loss: 0.3974 - accuracy: 0.8500 - val_loss: 0.3140 - val_accuracy: 0.9000\n",
      "Epoch 18/100\n",
      "3/3 [==============================] - 0s 47ms/step - loss: 0.3843 - accuracy: 0.8250 - val_loss: 0.3756 - val_accuracy: 0.8500\n",
      "Epoch 19/100\n",
      "3/3 [==============================] - 0s 44ms/step - loss: 0.3100 - accuracy: 0.9000 - val_loss: 0.2315 - val_accuracy: 1.0000\n",
      "Epoch 20/100\n",
      "3/3 [==============================] - 0s 46ms/step - loss: 0.2901 - accuracy: 0.9000 - val_loss: 0.2157 - val_accuracy: 1.0000\n",
      "Epoch 21/100\n",
      "3/3 [==============================] - 0s 50ms/step - loss: 0.2935 - accuracy: 0.9125 - val_loss: 0.2785 - val_accuracy: 0.9000\n",
      "Epoch 22/100\n",
      "3/3 [==============================] - 0s 48ms/step - loss: 0.2594 - accuracy: 0.9125 - val_loss: 0.1838 - val_accuracy: 1.0000\n",
      "Epoch 23/100\n",
      "3/3 [==============================] - 0s 55ms/step - loss: 0.2863 - accuracy: 0.8875 - val_loss: 0.2055 - val_accuracy: 0.9500\n",
      "Epoch 24/100\n",
      "3/3 [==============================] - 0s 50ms/step - loss: 0.2201 - accuracy: 0.9250 - val_loss: 0.1811 - val_accuracy: 0.9500\n",
      "Epoch 25/100\n",
      "3/3 [==============================] - 0s 54ms/step - loss: 0.1825 - accuracy: 0.9375 - val_loss: 0.1604 - val_accuracy: 0.9500\n",
      "Epoch 26/100\n",
      "3/3 [==============================] - 0s 53ms/step - loss: 0.2108 - accuracy: 0.9375 - val_loss: 0.1862 - val_accuracy: 0.9500\n",
      "Epoch 27/100\n",
      "3/3 [==============================] - 0s 102ms/step - loss: 0.1820 - accuracy: 0.9375 - val_loss: 0.1689 - val_accuracy: 0.9500\n",
      "Epoch 28/100\n",
      "3/3 [==============================] - 0s 64ms/step - loss: 0.1627 - accuracy: 0.9625 - val_loss: 0.1560 - val_accuracy: 0.9500\n",
      "Epoch 29/100\n",
      "3/3 [==============================] - 0s 44ms/step - loss: 0.1381 - accuracy: 0.9625 - val_loss: 0.1558 - val_accuracy: 0.9500\n",
      "Epoch 30/100\n",
      "3/3 [==============================] - 0s 42ms/step - loss: 0.1400 - accuracy: 0.9625 - val_loss: 0.1520 - val_accuracy: 0.9500\n",
      "Epoch 31/100\n",
      "3/3 [==============================] - 0s 48ms/step - loss: 0.1184 - accuracy: 0.9750 - val_loss: 0.1090 - val_accuracy: 0.9500\n",
      "Epoch 32/100\n",
      "3/3 [==============================] - 0s 40ms/step - loss: 0.0937 - accuracy: 0.9875 - val_loss: 0.1078 - val_accuracy: 0.9500\n",
      "Epoch 33/100\n",
      "3/3 [==============================] - 0s 85ms/step - loss: 0.0838 - accuracy: 0.9875 - val_loss: 0.1058 - val_accuracy: 0.9500\n",
      "Epoch 34/100\n",
      "3/3 [==============================] - 0s 49ms/step - loss: 0.1035 - accuracy: 0.9625 - val_loss: 0.1178 - val_accuracy: 0.9500\n",
      "Epoch 35/100\n",
      "3/3 [==============================] - 0s 46ms/step - loss: 0.0691 - accuracy: 0.9875 - val_loss: 0.0888 - val_accuracy: 0.9500\n",
      "Epoch 36/100\n",
      "3/3 [==============================] - 0s 78ms/step - loss: 0.0705 - accuracy: 0.9875 - val_loss: 0.0815 - val_accuracy: 1.0000\n",
      "Epoch 37/100\n",
      "3/3 [==============================] - 0s 41ms/step - loss: 0.0475 - accuracy: 1.0000 - val_loss: 0.0769 - val_accuracy: 1.0000\n",
      "Epoch 38/100\n",
      "3/3 [==============================] - 0s 48ms/step - loss: 0.0717 - accuracy: 0.9875 - val_loss: 0.0904 - val_accuracy: 0.9500\n",
      "Epoch 39/100\n",
      "3/3 [==============================] - 0s 47ms/step - loss: 0.0561 - accuracy: 1.0000 - val_loss: 0.0865 - val_accuracy: 0.9500\n",
      "Epoch 40/100\n",
      "3/3 [==============================] - 0s 38ms/step - loss: 0.0487 - accuracy: 1.0000 - val_loss: 0.0633 - val_accuracy: 1.0000\n",
      "Epoch 41/100\n",
      "3/3 [==============================] - 0s 38ms/step - loss: 0.0586 - accuracy: 0.9875 - val_loss: 0.1202 - val_accuracy: 0.9500\n",
      "Epoch 42/100\n",
      "3/3 [==============================] - 0s 42ms/step - loss: 0.0548 - accuracy: 0.9750 - val_loss: 0.0799 - val_accuracy: 0.9500\n",
      "Epoch 43/100\n",
      "3/3 [==============================] - 0s 41ms/step - loss: 0.0387 - accuracy: 1.0000 - val_loss: 0.0507 - val_accuracy: 1.0000\n",
      "Epoch 44/100\n",
      "3/3 [==============================] - 0s 42ms/step - loss: 0.0262 - accuracy: 1.0000 - val_loss: 0.0469 - val_accuracy: 1.0000\n",
      "Epoch 45/100\n",
      "3/3 [==============================] - 0s 43ms/step - loss: 0.0286 - accuracy: 1.0000 - val_loss: 0.0719 - val_accuracy: 0.9500\n",
      "Epoch 46/100\n",
      "3/3 [==============================] - 0s 50ms/step - loss: 0.0276 - accuracy: 1.0000 - val_loss: 0.0477 - val_accuracy: 1.0000\n",
      "Epoch 47/100\n",
      "3/3 [==============================] - 0s 49ms/step - loss: 0.0275 - accuracy: 0.9875 - val_loss: 0.0594 - val_accuracy: 1.0000\n",
      "Epoch 48/100\n",
      "3/3 [==============================] - 0s 53ms/step - loss: 0.0302 - accuracy: 1.0000 - val_loss: 0.0550 - val_accuracy: 1.0000\n",
      "Epoch 49/100\n",
      "3/3 [==============================] - 0s 45ms/step - loss: 0.0362 - accuracy: 0.9875 - val_loss: 0.0318 - val_accuracy: 1.0000\n",
      "Epoch 50/100\n",
      "3/3 [==============================] - 0s 41ms/step - loss: 0.0195 - accuracy: 1.0000 - val_loss: 0.0821 - val_accuracy: 0.9500\n",
      "Epoch 51/100\n",
      "3/3 [==============================] - 0s 71ms/step - loss: 0.0229 - accuracy: 1.0000 - val_loss: 0.0504 - val_accuracy: 1.0000\n",
      "Epoch 52/100\n",
      "3/3 [==============================] - 0s 45ms/step - loss: 0.0143 - accuracy: 1.0000 - val_loss: 0.0282 - val_accuracy: 1.0000\n",
      "Epoch 53/100\n",
      "3/3 [==============================] - 0s 52ms/step - loss: 0.0114 - accuracy: 1.0000 - val_loss: 0.0241 - val_accuracy: 1.0000\n",
      "Epoch 54/100\n",
      "3/3 [==============================] - 0s 64ms/step - loss: 0.0131 - accuracy: 1.0000 - val_loss: 0.0250 - val_accuracy: 1.0000\n",
      "Epoch 55/100\n",
      "3/3 [==============================] - 0s 46ms/step - loss: 0.0105 - accuracy: 1.0000 - val_loss: 0.0309 - val_accuracy: 1.0000\n",
      "Epoch 56/100\n",
      "3/3 [==============================] - 0s 46ms/step - loss: 0.0089 - accuracy: 1.0000 - val_loss: 0.0313 - val_accuracy: 1.0000\n",
      "Epoch 57/100\n",
      "3/3 [==============================] - 0s 47ms/step - loss: 0.0121 - accuracy: 1.0000 - val_loss: 0.0190 - val_accuracy: 1.0000\n",
      "Epoch 58/100\n",
      "3/3 [==============================] - 0s 48ms/step - loss: 0.0124 - accuracy: 1.0000 - val_loss: 0.0190 - val_accuracy: 1.0000\n"
     ]
    },
    {
     "name": "stdout",
     "output_type": "stream",
     "text": [
      "Epoch 59/100\n",
      "3/3 [==============================] - 0s 55ms/step - loss: 0.0075 - accuracy: 1.0000 - val_loss: 0.0332 - val_accuracy: 1.0000\n",
      "Epoch 60/100\n",
      "3/3 [==============================] - 0s 52ms/step - loss: 0.0123 - accuracy: 1.0000 - val_loss: 0.0241 - val_accuracy: 1.0000\n",
      "Epoch 61/100\n",
      "3/3 [==============================] - 0s 48ms/step - loss: 0.0094 - accuracy: 1.0000 - val_loss: 0.0149 - val_accuracy: 1.0000\n",
      "Epoch 62/100\n",
      "3/3 [==============================] - 0s 47ms/step - loss: 0.0130 - accuracy: 1.0000 - val_loss: 0.0238 - val_accuracy: 1.0000\n",
      "Epoch 63/100\n",
      "3/3 [==============================] - 0s 49ms/step - loss: 0.0082 - accuracy: 1.0000 - val_loss: 0.0372 - val_accuracy: 1.0000\n",
      "Epoch 64/100\n",
      "3/3 [==============================] - 0s 50ms/step - loss: 0.0063 - accuracy: 1.0000 - val_loss: 0.0219 - val_accuracy: 1.0000\n",
      "Epoch 65/100\n",
      "3/3 [==============================] - 0s 52ms/step - loss: 0.0052 - accuracy: 1.0000 - val_loss: 0.0141 - val_accuracy: 1.0000\n",
      "Epoch 66/100\n",
      "3/3 [==============================] - 0s 50ms/step - loss: 0.0065 - accuracy: 1.0000 - val_loss: 0.0151 - val_accuracy: 1.0000\n",
      "Epoch 67/100\n",
      "3/3 [==============================] - 0s 47ms/step - loss: 0.0064 - accuracy: 1.0000 - val_loss: 0.0270 - val_accuracy: 1.0000\n",
      "Epoch 68/100\n",
      "3/3 [==============================] - 0s 48ms/step - loss: 0.0050 - accuracy: 1.0000 - val_loss: 0.0219 - val_accuracy: 1.0000\n",
      "Epoch 69/100\n",
      "3/3 [==============================] - 0s 62ms/step - loss: 0.0044 - accuracy: 1.0000 - val_loss: 0.0157 - val_accuracy: 1.0000\n",
      "Epoch 70/100\n",
      "3/3 [==============================] - 0s 57ms/step - loss: 0.0058 - accuracy: 1.0000 - val_loss: 0.0139 - val_accuracy: 1.0000\n",
      "Epoch 71/100\n",
      "3/3 [==============================] - 0s 49ms/step - loss: 0.0031 - accuracy: 1.0000 - val_loss: 0.0129 - val_accuracy: 1.0000\n",
      "Epoch 72/100\n",
      "3/3 [==============================] - 0s 55ms/step - loss: 0.0045 - accuracy: 1.0000 - val_loss: 0.0127 - val_accuracy: 1.0000\n",
      "Epoch 73/100\n",
      "3/3 [==============================] - 0s 50ms/step - loss: 0.0032 - accuracy: 1.0000 - val_loss: 0.0139 - val_accuracy: 1.0000\n",
      "Epoch 74/100\n",
      "3/3 [==============================] - 0s 46ms/step - loss: 0.0049 - accuracy: 1.0000 - val_loss: 0.0149 - val_accuracy: 1.0000\n",
      "Epoch 75/100\n",
      "3/3 [==============================] - 0s 60ms/step - loss: 0.0032 - accuracy: 1.0000 - val_loss: 0.0136 - val_accuracy: 1.0000\n",
      "Epoch 76/100\n",
      "3/3 [==============================] - 0s 118ms/step - loss: 0.0028 - accuracy: 1.0000 - val_loss: 0.0106 - val_accuracy: 1.0000\n",
      "Epoch 77/100\n",
      "3/3 [==============================] - 0s 118ms/step - loss: 0.0026 - accuracy: 1.0000 - val_loss: 0.0096 - val_accuracy: 1.0000\n",
      "Epoch 78/100\n",
      "3/3 [==============================] - 0s 67ms/step - loss: 0.0024 - accuracy: 1.0000 - val_loss: 0.0101 - val_accuracy: 1.0000\n",
      "Epoch 79/100\n",
      "3/3 [==============================] - 0s 53ms/step - loss: 0.0027 - accuracy: 1.0000 - val_loss: 0.0136 - val_accuracy: 1.0000\n",
      "Epoch 80/100\n",
      "3/3 [==============================] - 0s 49ms/step - loss: 0.0035 - accuracy: 1.0000 - val_loss: 0.0174 - val_accuracy: 1.0000\n",
      "Epoch 81/100\n",
      "3/3 [==============================] - 0s 51ms/step - loss: 0.0021 - accuracy: 1.0000 - val_loss: 0.0122 - val_accuracy: 1.0000\n",
      "Epoch 82/100\n",
      "3/3 [==============================] - 0s 76ms/step - loss: 0.0024 - accuracy: 1.0000 - val_loss: 0.0063 - val_accuracy: 1.0000\n",
      "Epoch 83/100\n",
      "3/3 [==============================] - 0s 93ms/step - loss: 0.0020 - accuracy: 1.0000 - val_loss: 0.0069 - val_accuracy: 1.0000\n",
      "Epoch 84/100\n",
      "3/3 [==============================] - 0s 70ms/step - loss: 0.0027 - accuracy: 1.0000 - val_loss: 0.0076 - val_accuracy: 1.0000\n",
      "Epoch 85/100\n",
      "3/3 [==============================] - 0s 50ms/step - loss: 0.0037 - accuracy: 1.0000 - val_loss: 0.0153 - val_accuracy: 1.0000\n",
      "Epoch 86/100\n",
      "3/3 [==============================] - 0s 87ms/step - loss: 0.0017 - accuracy: 1.0000 - val_loss: 0.0212 - val_accuracy: 1.0000\n",
      "Epoch 87/100\n",
      "3/3 [==============================] - 0s 117ms/step - loss: 0.0022 - accuracy: 1.0000 - val_loss: 0.0137 - val_accuracy: 1.0000\n",
      "Epoch 88/100\n",
      "3/3 [==============================] - 0s 61ms/step - loss: 0.0022 - accuracy: 1.0000 - val_loss: 0.0054 - val_accuracy: 1.0000\n",
      "Epoch 89/100\n",
      "3/3 [==============================] - 0s 73ms/step - loss: 0.0022 - accuracy: 1.0000 - val_loss: 0.0052 - val_accuracy: 1.0000\n",
      "Epoch 90/100\n",
      "3/3 [==============================] - 0s 69ms/step - loss: 0.0013 - accuracy: 1.0000 - val_loss: 0.0063 - val_accuracy: 1.0000\n",
      "Epoch 91/100\n",
      "3/3 [==============================] - 0s 59ms/step - loss: 0.0017 - accuracy: 1.0000 - val_loss: 0.0055 - val_accuracy: 1.0000\n",
      "Epoch 92/100\n",
      "3/3 [==============================] - 0s 71ms/step - loss: 0.0019 - accuracy: 1.0000 - val_loss: 0.0048 - val_accuracy: 1.0000\n",
      "Epoch 93/100\n",
      "3/3 [==============================] - 0s 60ms/step - loss: 0.0023 - accuracy: 1.0000 - val_loss: 0.0042 - val_accuracy: 1.0000\n",
      "Epoch 94/100\n",
      "3/3 [==============================] - 0s 61ms/step - loss: 0.0018 - accuracy: 1.0000 - val_loss: 0.0081 - val_accuracy: 1.0000\n",
      "Epoch 95/100\n",
      "3/3 [==============================] - 0s 64ms/step - loss: 0.0014 - accuracy: 1.0000 - val_loss: 0.0101 - val_accuracy: 1.0000\n",
      "Epoch 96/100\n",
      "3/3 [==============================] - 0s 61ms/step - loss: 0.0016 - accuracy: 1.0000 - val_loss: 0.0068 - val_accuracy: 1.0000\n",
      "Epoch 97/100\n",
      "3/3 [==============================] - 0s 73ms/step - loss: 7.6331e-04 - accuracy: 1.0000 - val_loss: 0.0036 - val_accuracy: 1.0000\n",
      "Epoch 98/100\n",
      "3/3 [==============================] - 0s 73ms/step - loss: 0.0014 - accuracy: 1.0000 - val_loss: 0.0034 - val_accuracy: 1.0000\n",
      "Epoch 99/100\n",
      "3/3 [==============================] - 0s 52ms/step - loss: 0.0024 - accuracy: 1.0000 - val_loss: 0.0032 - val_accuracy: 1.0000\n",
      "Epoch 100/100\n",
      "3/3 [==============================] - 0s 58ms/step - loss: 0.0010 - accuracy: 1.0000 - val_loss: 0.0031 - val_accuracy: 1.0000\n"
     ]
    }
   ],
   "source": [
    "H = model.fit(x_train, y_train, validation_data=(x_test, y_test), \n",
    "          epochs=max_epochs, batch_size=32)"
   ]
  },
  {
   "cell_type": "code",
   "execution_count": 76,
   "metadata": {},
   "outputs": [
    {
     "data": {
      "image/png": "[encoded data removed]",
      "text/plain": [
       "<Figure size 432x288 with 1 Axes>"
      ]
     },
     "metadata": {},
     "output_type": "display_data"
    }
   ],
   "source": [
    "N = np.arange(0, max_epochs)\n",
    "plt.style.use(\"ggplot\")\n",
    "plt.figure()\n",
    "plt.plot(N, H.history[\"loss\"], label=\"train_loss\")\n",
    "plt.plot(N, H.history[\"val_loss\"], label=\"val_loss\")\n",
    "#plt.plot(N, H.history[\"accuracy\"], label=\"train_acc\")\n",
    "#plt.plot(N, H.history[\"val_accuracy\"], label=\"val_acc\")\n",
    "plt.xlabel(\"Epoch #\")\n",
    "plt.legend()\n",
    "plt.show()"
   ]
  },
  {
   "cell_type": "markdown",
   "metadata": {},
   "source": [
    "<h3>7. Evaluate the Model</h3>"
   ]
  },
  {
   "cell_type": "code",
   "execution_count": 77,
   "metadata": {},
   "outputs": [
    {
     "name": "stdout",
     "output_type": "stream",
     "text": [
      "              precision    recall  f1-score   support\n",
      "\n",
      "        JAHE       1.00      1.00      1.00        12\n",
      "    LENGKUAS       1.00      1.00      1.00         8\n",
      "\n",
      "    accuracy                           1.00        20\n",
      "   macro avg       1.00      1.00      1.00        20\n",
      "weighted avg       1.00      1.00      1.00        20\n",
      "\n"
     ]
    },
    {
     "name": "stderr",
     "output_type": "stream",
     "text": [
      "C:\\Users\\ASUS\\AppData\\Local\\Temp/ipykernel_16172/954476436.py:3: DeprecationWarning: `np.int` is a deprecated alias for the builtin `int`. To silence this warning, use `int` by itself. Doing this will not modify any behavior and is safe. When replacing `np.int`, you may wish to use e.g. `np.int64` or `np.int32` to specify the precision. If you wish to review your current use, check the release note link for additional information.\n",
      "Deprecated in NumPy 1.20; for more details and guidance: https://numpy.org/devdocs/release/1.20.0-notes.html#deprecations\n",
      "  target = (predictions > 0.5).astype(np.int)\n"
     ]
    }
   ],
   "source": [
    "# menghitung nilai akurasi model terhadap data test\n",
    "predictions = model.predict(x_test, batch_size=32)\n",
    "target = (predictions > 0.5).astype(np.int)\n",
    "print(classification_report(y_test, target, target_names=label_list))"
   ]
  },
  {
   "cell_type": "code",
   "execution_count": 78,
   "metadata": {},
   "outputs": [
    {
     "name": "stdout",
     "output_type": "stream",
     "text": [
      "[[0.9986239]]\n"
     ]
    }
   ],
   "source": [
    "# uji model menggunakan image lain\n",
    "queryPath = imagePaths+'query_lengkuas.jpg'\n",
    "query = cv2.imread(queryPath)\n",
    "output = query.copy()\n",
    "query = cv2.resize(query, (32, 32))\n",
    "q = []\n",
    "q.append(query)\n",
    "q = np.array(q, dtype='float') / 255.0\n",
    "\n",
    "q_pred = model.predict(q)\n",
    "print(q_pred)"
   ]
  },
  {
   "cell_type": "code",
   "execution_count": 79,
   "metadata": {},
   "outputs": [
    {
     "ename": "error",
     "evalue": "OpenCV(4.5.4) D:\\a\\opencv-python\\opencv-python\\opencv\\modules\\highgui\\src\\window_w32.cpp:1261: error: (-27:Null pointer) NULL window: 'Output' in function 'cvDestroyWindow'\n",
     "output_type": "error",
     "traceback": [
      "\u001b[1;31m---------------------------------------------------------------------------\u001b[0m",
      "\u001b[1;31merror\u001b[0m                                     Traceback (most recent call last)",
      "\u001b[1;32m~\\AppData\\Local\\Temp/ipykernel_16172/655485650.py\u001b[0m in \u001b[0;36m<module>\u001b[1;34m\u001b[0m\n\u001b[0;32m      9\u001b[0m \u001b[0mcv2\u001b[0m\u001b[1;33m.\u001b[0m\u001b[0mimshow\u001b[0m\u001b[1;33m(\u001b[0m\u001b[1;34m'Output'\u001b[0m\u001b[1;33m,\u001b[0m \u001b[0moutput\u001b[0m\u001b[1;33m)\u001b[0m\u001b[1;33m\u001b[0m\u001b[1;33m\u001b[0m\u001b[0m\n\u001b[0;32m     10\u001b[0m \u001b[0mcv2\u001b[0m\u001b[1;33m.\u001b[0m\u001b[0mwaitKey\u001b[0m\u001b[1;33m(\u001b[0m\u001b[1;33m)\u001b[0m \u001b[1;31m# image tidak akan diclose,sebelum user menekan sembarang tombol\u001b[0m\u001b[1;33m\u001b[0m\u001b[1;33m\u001b[0m\u001b[0m\n\u001b[1;32m---> 11\u001b[1;33m \u001b[0mcv2\u001b[0m\u001b[1;33m.\u001b[0m\u001b[0mdestroyWindow\u001b[0m\u001b[1;33m(\u001b[0m\u001b[1;34m'Output'\u001b[0m\u001b[1;33m)\u001b[0m \u001b[1;31m# image akan diclose\u001b[0m\u001b[1;33m\u001b[0m\u001b[1;33m\u001b[0m\u001b[0m\n\u001b[0m",
      "\u001b[1;31merror\u001b[0m: OpenCV(4.5.4) D:\\a\\opencv-python\\opencv-python\\opencv\\modules\\highgui\\src\\window_w32.cpp:1261: error: (-27:Null pointer) NULL window: 'Output' in function 'cvDestroyWindow'\n"
     ]
    }
   ],
   "source": [
    "if q_pred<=0.5 :\n",
    "    target = \"Jahe\"\n",
    "else :\n",
    "    target = \"Lengkuas\"\n",
    "text = \"{}\".format(target)\n",
    "cv2.putText(output, text, (10, 30), cv2.FONT_HERSHEY_SIMPLEX, 0.7, (0, 0, 255), 2)\n",
    " \n",
    "# menampilkan output image\n",
    "cv2.imshow('Output', output)\n",
    "cv2.waitKey() # image tidak akan diclose,sebelum user menekan sembarang tombol\n",
    "cv2.destroyWindow('Output') # image akan diclose"
   ]
  },
  {
   "cell_type": "code",
   "execution_count": 80,
   "metadata": {},
   "outputs": [],
   "source": [
    "model.save('jahe_lengkuas_class_model.h5')"
   ]
  },
  {
   "cell_type": "code",
   "execution_count": null,
   "metadata": {},
   "outputs": [],
   "source": []
  },
  {
   "cell_type": "code",
   "execution_count": null,
   "metadata": {},
   "outputs": [],
   "source": []
  }
 ],
 "metadata": {
  "kernelspec": {
   "display_name": "Python 3 (ipykernel)",
   "language": "python",
   "name": "python3"
  },
  "language_info": {
   "codemirror_mode": {
    "name": "ipython",
    "version": 3
   },
   "file_extension": ".py",
   "mimetype": "text/x-python",
   "name": "python",
   "nbconvert_exporter": "python",
   "pygments_lexer": "ipython3",
   "version": "3.8.2"
  }
 },
 "nbformat": 4,
 "nbformat_minor": 4
}
